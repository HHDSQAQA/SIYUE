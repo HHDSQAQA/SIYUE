{
 "cells": [
  {
   "cell_type": "code",
   "execution_count": null,
   "metadata": {},
   "outputs": [],
   "source": [
    "# Global Env\n",
    "\n",
    "openai_api  = \"\"    # openai-api-key\n",
    "model       = \"\"    # path of model,pth file\n",
    "model_conf  = \"\"    # path of config,json format\n"
   ]
  },
  {
   "cell_type": "code",
   "execution_count": null,
   "metadata": {},
   "outputs": [],
   "source": [
    "# clone vits repo\n",
    "!git clone https://github.com/kagura114/vits.git vits"
   ]
  },
  {
   "attachments": {},
   "cell_type": "markdown",
   "metadata": {},
   "source": [
    "#  USE A NEW ENV AND RUN!!!\n",
    "#  FOLLOWING SCRIPT WILL REMOVE YOUR CURRENT TRNSORFLOW INSTALLATION"
   ]
  },
  {
   "cell_type": "code",
   "execution_count": null,
   "metadata": {},
   "outputs": [],
   "source": [
    "# install requirements\n",
    "# python==3.9\n",
    "\n",
    "%pip install --upgrade pip\n",
    "%pip uninstall -y tensorflow numba\n",
    "%pip install Cython==0.29.21 \\\n",
    "librosa==0.8.0               \\\n",
    "matplotlib==3.3.1            \\\n",
    "numpy==1.23                  \\\n",
    "unidecode==1.3.4             \\\n",
    "pyopenjtalk==0.2.0           \\\n",
    "jamo==0.4.1                  \\\n",
    "pypinyin==0.44.0             \\\n",
    "jieba==0.42.1                \\\n",
    "protobuf==3.19.0             \\\n",
    "cn2an==0.5.17                \\\n",
    "inflect==6.0.0               \\\n",
    "eng_to_ipa==0.0.2            \\\n",
    "ko_pron==1.3                 \\\n",
    "indic_transliteration==2.3.37\\\n",
    "num_thai==0.0.5              \\\n",
    "opencc==1.1.1                \\\n",
    "openai    \n",
    "\n",
    "%pip install torch torchvision torchaudio --extra-index-url https://download.pytorch.org/whl/cpu\n",
    "\n",
    "# Remove \"#\" and install if you meet trouble\n",
    "# %pip install scipy==1.5.2\n"
   ]
  },
  {
   "cell_type": "code",
   "execution_count": null,
   "metadata": {},
   "outputs": [],
   "source": [
    "#build monotonic_align\n",
    "%cd vits/monotonic_align\n",
    "!mkdir monotonic_align\n",
    "!python setup.py build_ext --inplace\n",
    "%cd ../../\n"
   ]
  },
  {
   "cell_type": "code",
   "execution_count": null,
   "metadata": {},
   "outputs": [],
   "source": [
    "#initialize vits\n",
    "\n",
    "%matplotlib inline\n",
    "import matplotlib.pyplot as plt\n",
    "import IPython.display as ipd\n",
    "\n",
    "%cd vits\n",
    "\n",
    "import os\n",
    "import json\n",
    "import math\n",
    "import torch\n",
    "from torch import nn\n",
    "from torch.nn import functional as F\n",
    "from torch.utils.data import DataLoader\n",
    "\n",
    "import commons\n",
    "import utils\n",
    "from data_utils import TextAudioLoader, TextAudioCollate, TextAudioSpeakerLoader, TextAudioSpeakerCollate\n",
    "from models import SynthesizerTrn\n",
    "from text.symbols import symbols\n",
    "from text import text_to_sequence\n",
    "\n",
    "%cd ..\n",
    "\n",
    "from scipy.io.wavfile import write\n",
    "\n",
    "\n",
    "def get_text(text, hps):\n",
    "    text_norm = text_to_sequence(text, hps.data.text_cleaners)\n",
    "    if hps.data.add_blank:\n",
    "        text_norm = commons.intersperse(text_norm, 0)\n",
    "    text_norm = torch.LongTensor(text_norm)\n",
    "    return text_norm\n",
    "\n",
    "hps = utils.get_hparams_from_file(model_conf)\n",
    "\n",
    "net_g = SynthesizerTrn(\n",
    "    len(symbols),\n",
    "    hps.data.filter_length // 2 + 1,\n",
    "    hps.train.segment_size // hps.data.hop_length,\n",
    "    **hps.model)\n",
    "_ = net_g.eval()\n",
    "\n",
    "_ = utils.load_checkpoint(model, net_g, None)\n",
    "\n",
    "def mix(_):\n",
    "    stn_tst = get_text(_, hps)\n",
    "    with torch.no_grad():\n",
    "        x_tst = stn_tst.unsqueeze(0)\n",
    "        x_tst_lengths = torch.LongTensor([stn_tst.size(0)])\n",
    "        audio = net_g.infer(x_tst, x_tst_lengths, noise_scale=.667, noise_scale_w=0.8, length_scale=1)[0][0,0].data.cpu().float().numpy()\n",
    "    ipd.display(ipd.Audio(audio, rate=hps.data.sampling_rate, normalize=False))"
   ]
  },
  {
   "cell_type": "code",
   "execution_count": null,
   "metadata": {},
   "outputs": [],
   "source": [
    "mix(\"こんにちは\")"
   ]
  },
  {
   "cell_type": "code",
   "execution_count": null,
   "metadata": {},
   "outputs": [],
   "source": [
    "#Loat ChatGPT and perform the test\n",
    "import openai\n",
    "sys_prompt = \"You are my assistant, please answer my question and reply with Japanese, no emojis nor special characters, also use kana instead of kanji.\\n\"\n",
    "user = \"Hello\"\n",
    "openai.api_key = openai_api\n",
    "response_r = openai.Completion.create(\n",
    "  model=\"text-davinci-003\",\n",
    "  prompt= f\"{sys_prompt}{user}Answer:\",\n",
    "  temperature=0.9,\n",
    "  max_tokens=150,\n",
    "  top_p=1,\n",
    "  frequency_penalty=0.0,\n",
    "  presence_penalty=0.6,\n",
    "  stop=[\":\"]\n",
    ")\n",
    "print(response_r)\n",
    "\n",
    "response = str(response_r['choices'][0]['text'])\n",
    "print(response)\n",
    "mix(response)"
   ]
  },
  {
   "cell_type": "code",
   "execution_count": null,
   "metadata": {},
   "outputs": [],
   "source": [
    "# then load as a function\n",
    "def qa(x:str):\n",
    "    response_r = openai.Completion.create(\n",
    "    model=\"text-davinci-003\",\n",
    "    prompt= f\"{sys_prompt}{x}Answer:\",\n",
    "    temperature=0.9,\n",
    "    max_tokens=150,\n",
    "    top_p=1,\n",
    "    frequency_penalty=0.0,\n",
    "    presence_penalty=0.6,\n",
    "    stop=[\":\"]\n",
    "    )\n",
    "    response = str(response_r['choices'][0]['text'])\n",
    "    print(response)\n",
    "    mix(response)"
   ]
  },
  {
   "cell_type": "code",
   "execution_count": null,
   "metadata": {},
   "outputs": [],
   "source": [
    "qa(\"I wanna get a new video card, can you give me some advice\")"
   ]
  }
 ],
 "metadata": {
  "kernelspec": {
   "display_name": "Python 3",
   "language": "python",
   "name": "python3"
  },
  "language_info": {
   "codemirror_mode": {
    "name": "ipython",
    "version": 3
   },
   "file_extension": ".py",
   "mimetype": "text/x-python",
   "name": "python",
   "nbconvert_exporter": "python",
   "pygments_lexer": "ipython3",
   "version": "3.9.16"
  },
  "orig_nbformat": 4
 },
 "nbformat": 4,
 "nbformat_minor": 2
}
